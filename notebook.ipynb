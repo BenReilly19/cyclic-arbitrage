{
 "cells": [
  {
   "cell_type": "code",
   "execution_count": 2,
   "metadata": {},
   "outputs": [],
   "source": [
    "import web3"
   ]
  },
  {
   "cell_type": "code",
   "execution_count": 3,
   "metadata": {},
   "outputs": [],
   "source": [
    "w3 = web3.Web3(web3.Web3.HTTPProvider(\"https://mainnet.infura.io/v3/492be9e62d794c74984a79a3c43c50a5\"))\n"
   ]
  },
  {
   "cell_type": "code",
   "execution_count": 6,
   "metadata": {},
   "outputs": [
    {
     "name": "stdout",
     "output_type": "stream",
     "text": [
      "Found transaction\n",
      "Found transaction\n",
      "Found transaction\n"
     ]
    }
   ],
   "source": [
    "block = w3.eth.get_block('latest')\n",
    "for i in block['transactions']:\n",
    "  tx = w3.eth.get_transaction(i)\n",
    "  if tx['to'] == \"0x7a250d5630B4cF539739dF2C5dAcb4c659F2488D\":\n",
    "    print(\"Found transaction\")"
   ]
  },
  {
   "cell_type": "code",
   "execution_count": null,
   "metadata": {},
   "outputs": [],
   "source": []
  }
 ],
 "metadata": {
  "interpreter": {
   "hash": "7a28db79a9b46cb0e656e358992f75c0d87bee01984dd47700996d350e4c2312"
  },
  "kernelspec": {
   "display_name": "Python 3.9.7 ('backoffice')",
   "language": "python",
   "name": "python3"
  },
  "language_info": {
   "codemirror_mode": {
    "name": "ipython",
    "version": 3
   },
   "file_extension": ".py",
   "mimetype": "text/x-python",
   "name": "python",
   "nbconvert_exporter": "python",
   "pygments_lexer": "ipython3",
   "version": "3.8.8"
  },
  "orig_nbformat": 4
 },
 "nbformat": 4,
 "nbformat_minor": 2
}
